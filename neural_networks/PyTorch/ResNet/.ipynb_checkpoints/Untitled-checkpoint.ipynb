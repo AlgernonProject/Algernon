{
 "cells": [
  {
   "cell_type": "markdown",
   "id": "covered-award",
   "metadata": {},
   "source": [
    "References:\n",
    "\n",
    "- [Clean, scalable and easy to use ResNet implementation in Pytorch, Francesco Saverio Zuppichini.](https://github.com/FrancescoSaverioZuppichini/ResNet)\n",
    "- [Dumoulin, V., & Visin, F. (2016). A guide to convolution arithmetic for deep learning. arXiv preprint arXiv:1603.07285.](https://arxiv.org/pdf/1603.07285.pdf)\n",
    "-"
   ]
  },
  {
   "cell_type": "markdown",
   "id": "first-spell",
   "metadata": {},
   "source": [
    "__Redigir isso aqui em inglês (para praticar).__\n",
    "\n",
    "As operações de convolução aplicadas ao longo da rede devem manter a dimensionalidade do tensor de entrada, e a redução dessa dimensionalidade é controlada pelas operações de pooling (operação essa que tanto reduz o custo de processamento quanto tem benefícios quanto ao aprendizado do modelo).\n",
    "\n",
    "É possível determinar relações aritméticas simples entre a dimensão de saída da convolução e os seus parâmetros, em particular, utilizando o parâmetro unitário de stride (s) (quantidade de passos do kernel convolucional) e zero padding (p) (adição de zeros nas bordas do tensor), sendo $i$, $k$ e $o$ as dimensões de input, do kernel e de output, respectivamente, temos a seguinte relação:\n",
    "\n",
    "__Relação 1:__ Para quaisquer $i$, $k$, $p$ e $s = 1$, vale que $o = (i - k) + 2p + 1$.\n",
    "\n",
    "Portanto, supondo que $k = 2\\cdot n + 1$ para algum $n \\in \\mathbb{N}$, então podemos definir o parâmetro de padding como $p = k // 2 = n$, e conseguimos $o = (i - 2\\cdot n - 1) + 2 \\cdot [(2n + 1) // 2] + 1 = i$. Para simplificar a implementação, é possível implementar (classe __Conv2dAuto__) o padding automático como uma extensão da classe base de convolução bidimensional disponível no PyTorch."
   ]
  },
  {
   "cell_type": "code",
   "execution_count": null,
   "id": "wrong-inventory",
   "metadata": {},
   "outputs": [],
   "source": [
    "class Conv2dAuto(nn.Conv2d):\n",
    "    def __init__(self, *args, **kwargs):\n",
    "        super().__init__(*args, **kwargs)\n",
    "        self.padding = (self.kernel_size[0] // 2, self.kernel_size[1] // 2) "
   ]
  }
 ],
 "metadata": {
  "kernelspec": {
   "display_name": "Python 3",
   "language": "python",
   "name": "python3"
  },
  "language_info": {
   "codemirror_mode": {
    "name": "ipython",
    "version": 3
   },
   "file_extension": ".py",
   "mimetype": "text/x-python",
   "name": "python",
   "nbconvert_exporter": "python",
   "pygments_lexer": "ipython3",
   "version": "3.8.5"
  }
 },
 "nbformat": 4,
 "nbformat_minor": 5
}
